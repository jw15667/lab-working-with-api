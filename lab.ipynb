{
 "cells": [
  {
   "cell_type": "code",
   "execution_count": 2,
   "metadata": {},
   "outputs": [],
   "source": [
    "import pandas as pd\n",
    "import requests\n",
    "import json\n",
    "from config import *"
   ]
  },
  {
   "cell_type": "code",
   "execution_count": 3,
   "metadata": {},
   "outputs": [],
   "source": [
    "def get_dates(start, end):\n",
    "    return pd.Series(pd.date_range(start, end,freq='d').format()) # Format makes the output ans str variable.\n"
   ]
  },
  {
   "cell_type": "code",
   "execution_count": 4,
   "metadata": {},
   "outputs": [],
   "source": [
    "def city_code(city_name):\n",
    "    url = \"https://skyscanner-skyscanner-flight-search-v1.p.rapidapi.com/apiservices/autosuggest/v1.0/US/USD/en-US/\"\n",
    "    params = {\"query\": city_name}\n",
    "    headers = {'x-rapidapi-host': \"skyscanner-skyscanner-flight-search-v1.p.rapidapi.com\",\n",
    "                      'x-rapidapi-key': my_key}\n",
    "    response = requests.get(url, headers = headers, params = params)\n",
    "    return response.json()[\"Places\"][0][\"PlaceId\"]"
   ]
  },
  {
   "cell_type": "code",
   "execution_count": 5,
   "metadata": {},
   "outputs": [],
   "source": [
    "def flight_prices_jonty(outbound, inbound, date):\n",
    "    x = city_code(outbound)\n",
    "    y = city_code(inbound)\n",
    "    url = \"https://skyscanner-skyscanner-flight-search-v1.p.rapidapi.com/apiservices/browsequotes/v1.0/US/USD/en-US/{}/{}/{}\".format(x, y, date)\n",
    "    params = {\"inboundpartialdate\":date}\n",
    "\n",
    "    #headers = {\n",
    "    #    'x-rapidapi-host': \"skyscanner-skyscanner-flight-search-v1.p.rapidapi.com\",\n",
    "    #    'x-rapidapi-key': \"<introduce your RapidAPI key here>\"}\n",
    "\n",
    "    headers = {\n",
    "        'x-rapidapi-host': \"skyscanner-skyscanner-flight-search-v1.p.rapidapi.com\",\n",
    "        'x-rapidapi-key': my_key}    \n",
    "\n",
    "    response = requests.get(url, headers=headers, params=params)\n",
    "\n",
    "    return response.json()"
   ]
  },
  {
   "cell_type": "code",
   "execution_count": 7,
   "metadata": {},
   "outputs": [],
   "source": [
    "from  time import sleep\n",
    "\n",
    "def flight_dates(outbound, inbound, start='yyyy-mm-dd', end='yyyy-mm-dd'):\n",
    "    x = city_code(outbound)\n",
    "    y = city_code(inbound)\n",
    "    dates = get_dates(start, end)\n",
    "    my_dict = {}\n",
    "    for date in list(dates):\n",
    "        try: \n",
    "            #print(date)\n",
    "            #print(\"Gathering fligths\")\n",
    "            result = flight_prices_jonty(outbound, inbound, date)\n",
    "            my_dict[date] = result\n",
    "            sleep(5)\n",
    "        except:\n",
    "            print(\"Error from the API\")\n",
    "            sleep(60)\n",
    "    return prettier(my_dict)"
   ]
  },
  {
   "cell_type": "code",
   "execution_count": 16,
   "metadata": {},
   "outputs": [],
   "source": [
    "def prettier(dix):\n",
    "#     flights = pd.DataFrame(columns=['date', 'price', 'flight_company'])\n",
    "    prices = 1000000\n",
    "    dates = ''\n",
    "    flight_company = ''\n",
    "    for key in dix.keys():\n",
    "        price = int((dix[key]['Quotes'][0]['MinPrice']))\n",
    "        if price < prices:\n",
    "            prices = price\n",
    "            dates= str(key)\n",
    "            flight_company = str(dix[key]['Carriers'][0]['Name'])\n",
    "    \n",
    "    return print(f\"cheapest flight:\\nprice: {prices}, \\ndate: {dates}, \\nairline: {flight_company}\")"
   ]
  },
  {
   "cell_type": "code",
   "execution_count": 17,
   "metadata": {},
   "outputs": [
    {
     "name": "stdout",
     "output_type": "stream",
     "text": [
      "cheapest flight:\n",
      "price: 41, \n",
      "date: 2021-06-16, \n",
      "airline: Vueling Airlines\n"
     ]
    }
   ],
   "source": [
    "flight_dates('London', 'Paris', '2021-06-15', '2021-06-16')"
   ]
  }
 ],
 "metadata": {
  "kernelspec": {
   "display_name": "Python 3",
   "language": "python",
   "name": "python3"
  },
  "language_info": {
   "codemirror_mode": {
    "name": "ipython",
    "version": 3
   },
   "file_extension": ".py",
   "mimetype": "text/x-python",
   "name": "python",
   "nbconvert_exporter": "python",
   "pygments_lexer": "ipython3",
   "version": "3.8.5"
  }
 },
 "nbformat": 4,
 "nbformat_minor": 4
}
